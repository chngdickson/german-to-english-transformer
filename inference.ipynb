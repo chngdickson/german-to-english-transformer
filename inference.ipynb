{
 "cells": [
  {
   "cell_type": "code",
   "execution_count": 1,
   "id": "43cad6cd-1c32-4478-8268-754ac6d757b1",
   "metadata": {},
   "outputs": [],
   "source": [
    "import pickle\n",
    "# Getting vocab and tokenizers [src->trg]\n",
    "with open('.data/en_to_de_vocab_token.pkl', 'rb') as f:  \n",
    "    vocab_en, vocab_de, en_tokenizer, de_tokenizer = pickle.load(f)"
   ]
  },
  {
   "cell_type": "code",
   "execution_count": 2,
   "id": "42e43df8-b4c9-4417-bbee-c7092651a2e1",
   "metadata": {},
   "outputs": [
    {
     "data": {
      "text/plain": [
       "<All keys matched successfully>"
      ]
     },
     "execution_count": 2,
     "metadata": {},
     "output_type": "execute_result"
    }
   ],
   "source": [
    "import torch\n",
    "from attention_transformer import Transformer\n",
    "import torch.nn as nn\n",
    "SRC_VOCAB_SIZE ,TRG_VOCAB_SIZE = len(vocab_en) , len(vocab_de)\n",
    "SRC_PAD_IDX, TRG_PAD_IDX = vocab_en['<PAD>'] , vocab_de['<PAD>']\n",
    "MAX_SENTENCE_LENGTH = 256\n",
    "EMBED_SIZE , NUM_LAYERS , FORWARD_EXPANSION , HEADS = 256, 3, 2 , 8\n",
    "DEVICE = torch.device(\"cuda\" if torch.cuda.is_available() else \"cpu\")\n",
    "DROPOUT = 0.1\n",
    "\n",
    "model = Transformer(\n",
    "    src_vocab_len=SRC_VOCAB_SIZE,\n",
    "    trg_vocab_len=TRG_VOCAB_SIZE,\n",
    "    src_pad_idx = SRC_PAD_IDX,\n",
    "    trg_pad_idx = TRG_PAD_IDX,\n",
    "    src_max_sentence_len = MAX_SENTENCE_LENGTH,\n",
    "    trg_max_sentence_len = MAX_SENTENCE_LENGTH,\n",
    "    hid_dim = EMBED_SIZE,\n",
    "    n_layers = NUM_LAYERS,\n",
    "    n_heads = HEADS,\n",
    "    ff_dim_multiplier = FORWARD_EXPANSION,\n",
    "    dropout = DROPOUT,\n",
    "    device = DEVICE\n",
    ").to(DEVICE)\n",
    "\n",
    "\n",
    "# Loading params for model\n",
    "model.load_state_dict(torch.load('model_dicts/en_ger_attention_model.pt'))"
   ]
  },
  {
   "cell_type": "code",
   "execution_count": 3,
   "id": "c4dd9cfb-aea3-4077-b518-4db6e825571d",
   "metadata": {},
   "outputs": [],
   "source": [
    "def translate_sentence(sentence, src_tokenizer, src_vocab, trg_vocab, model, device,max_len = 50):\n",
    "    model.eval()\n",
    "    \n",
    "    src_tokens = ['<BOS>'] + [token.text.lower() for token in src_tokenizer(sentence)] + ['<EOS>']\n",
    "    src_indexes = [src_vocab[token] for token in src_tokens]\n",
    "    src_tensor = torch.LongTensor(src_indexes).unsqueeze(0).to(device)\n",
    "\n",
    "    trg_indexes = []\n",
    "    trg_indexes.append(trg_vocab['<BOS>'])\n",
    "\n",
    "    for i in range(max_len):\n",
    "        trg_tensor = torch.LongTensor(trg_indexes).unsqueeze(0).to(device)\n",
    "        \n",
    "        with torch.no_grad():\n",
    "            output = model(src_tensor,trg_tensor)\n",
    "        \n",
    "        pred_token = output.cpu().argmax(2)[:,-1]\n",
    "        \n",
    "        trg_indexes.append(pred_token)\n",
    "\n",
    "        if pred_token == trg_vocab['<EOS>']:\n",
    "            break\n",
    "    \n",
    "    trg_tokens = [trg_vocab.lookup_token(i) for i in trg_indexes]\n",
    "    print(trg_tokens)\n",
    "    \"\"\"Memory Management\"\"\"\n",
    "    output = output.cpu()\n",
    "    del output\n",
    "    return trg_tokens\n"
   ]
  },
  {
   "cell_type": "code",
   "execution_count": 4,
   "id": "f82a0d86-c3f6-4aea-bdee-1804045f2472",
   "metadata": {},
   "outputs": [
    {
     "name": "stdout",
     "output_type": "stream",
     "text": [
      "['<BOS>', 'scheiß', 'ihre', 'mutter', 'an', '.', '\\n', '<EOS>']\n"
     ]
    }
   ],
   "source": [
    "translation = translate_sentence(sentence = \"Fuck your mother\",\n",
    "                                 src_tokenizer = en_tokenizer,\n",
    "                                 src_vocab = vocab_en, \n",
    "                                 trg_vocab = vocab_de,\n",
    "                                 model = model,\n",
    "                                 device = DEVICE,\n",
    "                                 max_len = 30\n",
    "                                )"
   ]
  }
 ],
 "metadata": {
  "kernelspec": {
   "display_name": "Python 3 (ipykernel)",
   "language": "python",
   "name": "python3"
  },
  "language_info": {
   "codemirror_mode": {
    "name": "ipython",
    "version": 3
   },
   "file_extension": ".py",
   "mimetype": "text/x-python",
   "name": "python",
   "nbconvert_exporter": "python",
   "pygments_lexer": "ipython3",
   "version": "3.8.10"
  }
 },
 "nbformat": 4,
 "nbformat_minor": 5
}
