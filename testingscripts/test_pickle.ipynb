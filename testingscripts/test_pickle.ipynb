{
 "cells": [
  {
   "cell_type": "code",
   "execution_count": 9,
   "id": "4a24dc24-6f43-45cb-a99e-fe9d96b9e48a",
   "metadata": {},
   "outputs": [],
   "source": [
    "import pickle\n",
    "\n",
    "my_int = 25\n",
    "my_other_int = 10\n",
    "filename = \"variables/my_ints.pkl\"\n",
    "with open(filename, 'wb') as f:\n",
    "    pickle.dump([my_int,my_other_int], f)\n"
   ]
  },
  {
   "cell_type": "code",
   "execution_count": 10,
   "id": "03be906a-9f6e-4fc8-abbf-d235017cff92",
   "metadata": {},
   "outputs": [
    {
     "name": "stdout",
     "output_type": "stream",
     "text": [
      "25 10\n"
     ]
    }
   ],
   "source": [
    "with open(filename, 'rb') as f:  # Python 3: open(..., 'rb')\n",
    "    obj0, obj1 = pickle.load(f)\n",
    "print(obj0, obj1)"
   ]
  },
  {
   "cell_type": "code",
   "execution_count": 12,
   "id": "96c4463e-46f5-439c-97d7-88949236e1f4",
   "metadata": {},
   "outputs": [
    {
     "name": "stdout",
     "output_type": "stream",
     "text": [
      "this\n"
     ]
    }
   ],
   "source": [
    "try:\n",
    "    with open(\"variables/my_int.pkl\", 'rb') as f:  # Python 3: open(..., 'rb')\n",
    "        obj0, obj1 = pickle.load(f)\n",
    "    print(obj0, obj1)\n",
    "except (OSError, IOError) as e:\n",
    "    foo = 3\n",
    "    print('this')"
   ]
  },
  {
   "cell_type": "code",
   "execution_count": 14,
   "id": "368b83dc-185f-4ecf-aabc-78eeca6a706a",
   "metadata": {},
   "outputs": [
    {
     "ename": "AssertionError",
     "evalue": "need to input variable",
     "output_type": "error",
     "traceback": [
      "\u001b[1;31m---------------------------------------------------------------------------\u001b[0m",
      "\u001b[1;31mAssertionError\u001b[0m                            Traceback (most recent call last)",
      "\u001b[1;32m~\\AppData\\Local\\Temp/ipykernel_9208/3236290491.py\u001b[0m in \u001b[0;36m<module>\u001b[1;34m\u001b[0m\n\u001b[0;32m      1\u001b[0m \u001b[0mvariable\u001b[0m \u001b[1;33m=\u001b[0m \u001b[1;32mNone\u001b[0m\u001b[1;33m\u001b[0m\u001b[1;33m\u001b[0m\u001b[0m\n\u001b[1;32m----> 2\u001b[1;33m \u001b[1;32massert\u001b[0m \u001b[0mvariable\u001b[0m \u001b[1;33m!=\u001b[0m \u001b[1;32mNone\u001b[0m\u001b[1;33m,\u001b[0m \u001b[1;34m\"need to input variable\"\u001b[0m\u001b[1;33m\u001b[0m\u001b[1;33m\u001b[0m\u001b[0m\n\u001b[0m",
      "\u001b[1;31mAssertionError\u001b[0m: need to input variable"
     ]
    }
   ],
   "source": [
    "variable = None\n",
    "assert variable != None, \"need to input variable\""
   ]
  },
  {
   "cell_type": "code",
   "execution_count": null,
   "id": "33f3e958-5fa5-4e28-a355-4c71b17656dc",
   "metadata": {},
   "outputs": [],
   "source": []
  }
 ],
 "metadata": {
  "kernelspec": {
   "display_name": "Python 3 (ipykernel)",
   "language": "python",
   "name": "python3"
  },
  "language_info": {
   "codemirror_mode": {
    "name": "ipython",
    "version": 3
   },
   "file_extension": ".py",
   "mimetype": "text/x-python",
   "name": "python",
   "nbconvert_exporter": "python",
   "pygments_lexer": "ipython3",
   "version": "3.8.10"
  }
 },
 "nbformat": 4,
 "nbformat_minor": 5
}
