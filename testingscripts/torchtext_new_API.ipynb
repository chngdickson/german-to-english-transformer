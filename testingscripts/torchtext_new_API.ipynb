{
 "cells": [
  {
   "cell_type": "code",
   "execution_count": 1,
   "id": "66dda6ef-8bcb-4f5f-8209-c2076fe5c2f4",
   "metadata": {},
   "outputs": [
    {
     "name": "stderr",
     "output_type": "stream",
     "text": [
      "C:\\Users\\Dicks\\Documents\\Python\\Sequence\\Coursera_course\\my_coursera\\.data\\AG_NEWS\\train.csv: 29.5MB [00:05, 5.00MB/s] \n"
     ]
    },
    {
     "name": "stdout",
     "output_type": "stream",
     "text": [
      "(3, \"Wall St. Bears Claw Back Into the Black (Reuters) Reuters - Short-sellers, Wall Street's dwindling\\\\band of ultra-cynics, are seeing green again.\")\n"
     ]
    }
   ],
   "source": [
    "from torchtext import vocab\n",
    "from torchtext.legacy.data import Field, TabularDataset, BucketIterator\n",
    "from torchtext.datasets import AG_NEWS\n",
    "from torchtext.data.utils import get_tokenizer\n",
    "\n",
    "train_iter = AG_NEWS(split='train')\n",
    "tokenizer = get_tokenizer('basic_english')\n",
    "print(next(train_iter))\n",
    "\n",
    "\n",
    "def yield_tokens(data_iter):\n",
    "    for _, text in data_iter:\n",
    "        yield tokenizer(text)\n",
    "\n",
    "dataset_vocab = vocab.build_vocab_from_iterator(yield_tokens(train_iter))\n"
   ]
  },
  {
   "cell_type": "code",
   "execution_count": 2,
   "id": "19604164-f5f2-40b3-b5d6-d7de5031c47b",
   "metadata": {},
   "outputs": [
    {
     "name": "stdout",
     "output_type": "stream",
     "text": [
      "['hello', 'my', 'name', 'is']\n"
     ]
    }
   ],
   "source": [
    "print(tokenizer(\"hello my name is\"))"
   ]
  },
  {
   "cell_type": "code",
   "execution_count": 3,
   "id": "9131a8c3-f7e3-4649-b87d-be0ef5b77cd3",
   "metadata": {},
   "outputs": [
    {
     "name": "stdout",
     "output_type": "stream",
     "text": [
      "[12543, 1299, 950, 20]\n"
     ]
    }
   ],
   "source": [
    "def yield_token():\n",
    "    for i in tokenizer(\"hello my name is\"):\n",
    "        yield dataset_vocab[i]\n",
    "\n",
    "some_list = list(yield_token())\n",
    "print(some_list)\n",
    "#print(tokenizer.spacy.len())"
   ]
  },
  {
   "cell_type": "markdown",
   "id": "8b0918ac-7f4a-4215-8edb-b19ac98e844b",
   "metadata": {},
   "source": [
    "### Split Dataset"
   ]
  },
  {
   "cell_type": "code",
   "execution_count": 4,
   "id": "8ed41b60-4321-4634-8b89-28d429235270",
   "metadata": {},
   "outputs": [
    {
     "name": "stdout",
     "output_type": "stream",
     "text": [
      "('neg', 'I rented I AM CURIOUS-YELLOW from my video store because of all the controversy that surrounded it when it was first released in 1967. I also heard that at first it was seized by U.S. customs if it ever tried to enter this country, therefore being a fan of films considered \"controversial\" I really had to see this for myself.<br /><br />The plot is centered around a young Swedish drama student named Lena who wants to learn everything she can about life. In particular she wants to focus her attentions to making some sort of documentary on what the average Swede thought about certain political issues such as the Vietnam War and race issues in the United States. In between asking politicians and ordinary denizens of Stockholm about their opinions on politics, she has sex with her drama teacher, classmates, and married men.<br /><br />What kills me about I AM CURIOUS-YELLOW is that 40 years ago, this was considered pornographic. Really, the sex and nudity scenes are few and far between, even then it\\'s not shot like some cheaply made porno. While my countrymen mind find it shocking, in reality sex and nudity are a major staple in Swedish cinema. Even Ingmar Bergman, arguably their answer to good old boy John Ford, had sex scenes in his films.<br /><br />I do commend the filmmakers for the fact that any sex shown in the film is shown for artistic purposes rather than just to shock people and make money to be shown in pornographic theaters in America. I AM CURIOUS-YELLOW is a good film for anyone wanting to study the meat and potatoes (no pun intended) of Swedish cinema. But really, this film doesn\\'t have much of a plot.')\n"
     ]
    }
   ],
   "source": [
    "import torch\n",
    "from torchtext.legacy import data\n",
    "from torchtext.legacy import datasets\n",
    "\n",
    "\n",
    "from torchtext.datasets import IMDB\n",
    "train_iter, test_iter = IMDB(split=('train', 'test'))\n",
    "print(next(train_iter))"
   ]
  },
  {
   "cell_type": "code",
   "execution_count": 5,
   "id": "62940f97-81ba-452a-a10b-6dc138bca644",
   "metadata": {},
   "outputs": [],
   "source": [
    "from torchtext.data.utils import get_tokenizer\n",
    "\n",
    "tokenizer = get_tokenizer('basic_english')\n"
   ]
  },
  {
   "cell_type": "markdown",
   "id": "61b093ac-5b68-4f1a-a835-a24451842bba",
   "metadata": {},
   "source": [
    "For more flexibility, users can build the vocabulary directly with the **Vocab class** For example the argument \n",
    "- min_freq = cutoff sentence to the vocab.\n",
    "\n",
    "The special tokens, like <BOS> and <EOS> can be assigned to the special symbols in the constructor of the Vocab class"
   ]
  },
  {
   "cell_type": "code",
   "execution_count": 18,
   "id": "e20bee0b-5e5b-46a1-bb77-69420b2a3d54",
   "metadata": {},
   "outputs": [
    {
     "ename": "TypeError",
     "evalue": "__init__() got an unexpected keyword argument 'min_freq'",
     "output_type": "error",
     "traceback": [
      "\u001b[1;31m---------------------------------------------------------------------------\u001b[0m",
      "\u001b[1;31mTypeError\u001b[0m                                 Traceback (most recent call last)",
      "\u001b[1;32m~\\AppData\\Local\\Temp/ipykernel_11008/2278544423.py\u001b[0m in \u001b[0;36m<module>\u001b[1;34m\u001b[0m\n\u001b[0;32m      6\u001b[0m \u001b[1;32mfor\u001b[0m \u001b[1;33m(\u001b[0m\u001b[0mlabel\u001b[0m\u001b[1;33m,\u001b[0m \u001b[0mline\u001b[0m\u001b[1;33m)\u001b[0m \u001b[1;32min\u001b[0m \u001b[0mtrain_iter\u001b[0m\u001b[1;33m:\u001b[0m\u001b[1;33m\u001b[0m\u001b[1;33m\u001b[0m\u001b[0m\n\u001b[0;32m      7\u001b[0m     \u001b[0mcounter\u001b[0m\u001b[1;33m.\u001b[0m\u001b[0mupdate\u001b[0m\u001b[1;33m(\u001b[0m\u001b[0mtokenizer\u001b[0m\u001b[1;33m(\u001b[0m\u001b[0mline\u001b[0m\u001b[1;33m)\u001b[0m\u001b[1;33m)\u001b[0m\u001b[1;33m\u001b[0m\u001b[1;33m\u001b[0m\u001b[0m\n\u001b[1;32m----> 8\u001b[1;33m \u001b[0mvocab\u001b[0m \u001b[1;33m=\u001b[0m \u001b[0mVocab\u001b[0m\u001b[1;33m(\u001b[0m\u001b[0mcounter\u001b[0m\u001b[1;33m,\u001b[0m \u001b[0mmin_freq\u001b[0m\u001b[1;33m=\u001b[0m\u001b[1;36m10\u001b[0m\u001b[1;33m,\u001b[0m \u001b[0mspecials\u001b[0m\u001b[1;33m=\u001b[0m\u001b[1;33m(\u001b[0m\u001b[1;34m'<unk>'\u001b[0m\u001b[1;33m,\u001b[0m \u001b[1;34m'<BOS>'\u001b[0m\u001b[1;33m,\u001b[0m \u001b[1;34m'<EOS>'\u001b[0m\u001b[1;33m,\u001b[0m \u001b[1;34m'<PAD>'\u001b[0m\u001b[1;33m)\u001b[0m\u001b[1;33m)\u001b[0m\u001b[1;33m\u001b[0m\u001b[1;33m\u001b[0m\u001b[0m\n\u001b[0m",
      "\u001b[1;31mTypeError\u001b[0m: __init__() got an unexpected keyword argument 'min_freq'"
     ]
    }
   ],
   "source": [
    "from collections import Counter\n",
    "from torchtext.vocab import Vocab\n",
    "\n",
    "train_iter = IMDB(split='train')\n",
    "counter = Counter()\n",
    "for (label, line) in train_iter:\n",
    "    counter.update(tokenizer(line))\n",
    "vocab = Vocab(counter, min_freq=10, specials=('<unk>', '<BOS>', '<EOS>', '<PAD>'))"
   ]
  },
  {
   "cell_type": "code",
   "execution_count": null,
   "id": "e1f95ac7-eb36-4176-9361-df45d8bf0500",
   "metadata": {},
   "outputs": [],
   "source": [
    "print(\"The length of the new vocab is\", len(vocab))\n",
    "new_stoi = vocab.stoi\n",
    "print(\"The index of '<BOS>' is\", new_stoi['<BOS>'])\n",
    "new_itos = vocab.itos\n",
    "print(\"The token at index 2 is\", new_itos[2])"
   ]
  },
  {
   "cell_type": "code",
   "execution_count": null,
   "id": "23555ff6-c8e8-46ee-98a0-fd90c9f439a5",
   "metadata": {},
   "outputs": [],
   "source": [
    "\n",
    "text_transform = lambda x: [vocab['<BOS>']] + [vocab[token] for token in tokenizer(x)] + [vocab['<EOS>']]\n",
    "label_transform = lambda x: 1 if x == 'pos' else 0\n",
    "\n",
    "# Print out the output of text_transform\n",
    "print(\"input to the text_transform:\", \"here is an example\")\n",
    "print(\"output of the text_transform:\", text_transform(\"here is an example\"))"
   ]
  },
  {
   "cell_type": "code",
   "execution_count": null,
   "id": "5c6b5a45-5087-47a3-b3ac-97737749129b",
   "metadata": {},
   "outputs": [],
   "source": [
    "from torch.utils.data import DataLoader\n",
    "from torch.nn.utils.rnn import pad_sequence\n",
    "import random\n",
    "\n",
    "#\n",
    "train_iter = IMDB(split='train')\n",
    "train_list = list(train_iter)\n",
    "batch_size = 8  # A batch size of 8\n",
    "\n",
    "def collate_batch(batch, src_transform, tgt_transform):\n",
    "   label_list, text_list = [], []\n",
    "   for (_label, _text) in batch:\n",
    "        label_list.append(src_transform(_label))\n",
    "        processed_text = torch.tensor(tgt_transform(_text))\n",
    "        text_list.append(processed_text)\n",
    "   return torch.tensor(label_list), pad_sequence(text_list, padding_value=3.0)\n",
    "#tokenizer = get_tokenizer('basic_english')\n",
    "def batch_sampler():\n",
    "    indices = [(i, len(tokenizer(s[1]))) for i, s in enumerate(train_list)]\n",
    "    random.shuffle(indices)\n",
    "    pooled_indices = []\n",
    "    # create pool of indices with similar lengths \n",
    "    for i in range(0, len(indices), batch_size * 100):\n",
    "        pooled_indices.extend(sorted(indices[i:i + batch_size * 100], key=lambda x: x[1]))\n",
    "\n",
    "    pooled_indices = [x[0] for x in pooled_indices]\n",
    "\n",
    "    # yield indices for current batch\n",
    "    for i in range(0, len(pooled_indices), batch_size):\n",
    "        yield pooled_indices[i:i + batch_size]\n",
    "\n",
    "bucket_dataloader = DataLoader(train_list, batch_sampler=batch_sampler(),\n",
    "                               collate_fn=collate_batch(batch, text_transform, label_transform))\n",
    "\n",
    "#print(next(iter(bucket_dataloader)), next(iter(bucket_dataloader)).shape)"
   ]
  },
  {
   "cell_type": "code",
   "execution_count": null,
   "id": "876bd360-e7dc-4993-a89c-bdf51f249f6f",
   "metadata": {},
   "outputs": [],
   "source": [
    "#print(next(iter(bucket_dataloader)))\n",
    "test = next(iter(bucket_dataloader))\n",
    "print(test[0], test[1].shape)"
   ]
  },
  {
   "cell_type": "code",
   "execution_count": null,
   "id": "bbd04138-4bf1-4f11-a587-2957d52d8cae",
   "metadata": {},
   "outputs": [],
   "source": [
    "test = next(iter(bucket_dataloader))\n",
    "print(test[0], test[1].shape)"
   ]
  },
  {
   "cell_type": "code",
   "execution_count": null,
   "id": "541dd63d-80f6-4d6d-959b-2276c2a1fc3d",
   "metadata": {},
   "outputs": [],
   "source": [
    "test = next(iter(bucket_dataloader))\n",
    "print(test[0], test[1].shape)"
   ]
  },
  {
   "cell_type": "code",
   "execution_count": null,
   "id": "a503984d-b1ea-48bd-a56f-c45141d2e05b",
   "metadata": {},
   "outputs": [],
   "source": [
    "test = next(iter(bucket_dataloader))\n",
    "print(test[0], test[1].shape)"
   ]
  },
  {
   "cell_type": "markdown",
   "id": "b9966fce-bcee-4ba1-a1ae-7d7725c233f4",
   "metadata": {},
   "source": [
    "# Following Pytorch tutorial in this youtube link\n",
    "https://www.youtube.com/watch?v=InUqeaOSPpA&list=RDCMUCkzW5JSFwvKRjXABI-UTAkQ&index=2 "
   ]
  },
  {
   "cell_type": "code",
   "execution_count": null,
   "id": "6d2b53cf-87e4-4ac6-8934-c1343ad7c84b",
   "metadata": {},
   "outputs": [],
   "source": [
    "import spacy\n",
    "from torchtext.datasets import IWSLT2017\n",
    "train_data, valid_data, test_data = IWSLT2017(language_pair=('en','de'))\n"
   ]
  },
  {
   "cell_type": "code",
   "execution_count": null,
   "id": "3d6fe07a-679a-4153-ac6c-eb5d4f7c4425",
   "metadata": {},
   "outputs": [],
   "source": [
    "#python -m spacy download de_dep_news_trf\n",
    "#python -m spacy download en_core_web_trf\n",
    "#python -m spacy download fr_dep_news_trf\n",
    "#python -m spacy download zh_core_web_trf\n",
    "dict_spacy = {'en':'en_core_web_trf', 'de':'de_dep_news_trf', 'fr':'fr_dep_news_trf', 'cn': 'zh_core_web_trf', \n",
    "             'cat': 'ca_core_news_trf'}\n",
    "# https://spacy.io/usage/models\n",
    "# english, german, french, chinese, catalan\n",
    "spacy_eng = spacy.load(dict_spacy['en'])\n",
    "spacy_ger = spacy.load(dict_spacy['de'])"
   ]
  },
  {
   "cell_type": "code",
   "execution_count": null,
   "id": "791cff41-99d8-4b85-889b-351a448704ad",
   "metadata": {},
   "outputs": [],
   "source": [
    "def tokenize_eng(text):\n",
    "    return [tok.text for tok in spacy_eng.tokenizer(text)]\n",
    "def tokenize_ger(text):\n",
    "    return [tok.text for tok in spacy_ger.tokenizer(text)]\n",
    "\n"
   ]
  },
  {
   "cell_type": "code",
   "execution_count": null,
   "id": "28ffd9cc-45fc-4234-be4a-555b2e459ae6",
   "metadata": {},
   "outputs": [],
   "source": [
    "#print(type(train_data))\n",
    "from tqdm import tqdm\n",
    "tokenizer = spacy.load('en_core_web_trf')"
   ]
  },
  {
   "cell_type": "code",
   "execution_count": null,
   "id": "85095a35-9564-4374-8144-cf39ab87ec81",
   "metadata": {},
   "outputs": [],
   "source": [
    "TEXT = data.Field(tokenize=data.get_tokenizer('basic_english'),\n",
    "                  init_token='<SOS>', eos_token='<EOS>', lower=True)\n",
    "LABEL = data.Field(tokenize=data.get_tokenizer('basic_english'),\n",
    "                  init_token='<SOS>', eos_token='<EOS>', lower=True)\n",
    "legacy_train, legacy_test = datasets.IMDB.splits(TEXT, LABEL)"
   ]
  },
  {
   "cell_type": "code",
   "execution_count": null,
   "id": "14aacbd7-32c8-4632-922f-f30050b1638b",
   "metadata": {},
   "outputs": [],
   "source": []
  },
  {
   "cell_type": "code",
   "execution_count": null,
   "id": "0c0e19ea-4e99-4740-92a9-528f8b909c4d",
   "metadata": {},
   "outputs": [],
   "source": [
    "def tokenize(text):\n",
    "    def indices():\n",
    "        for s in tokenizer(text):\n",
    "            yield vocab[s]\n",
    "    return list(indices())\n",
    "tokenize('Hello, how are u')"
   ]
  },
  {
   "cell_type": "code",
   "execution_count": null,
   "id": "e2b4978e-15aa-4f8b-9a8b-4f1240d52852",
   "metadata": {},
   "outputs": [],
   "source": [
    "for (label, line) in train_data:\n",
    "    counter.update(tokenizer(label))\n",
    "vocab = Vocab(counter, min_freq=10, specials=('<unk>', '<BOS>', '<EOS>', '<PAD>'))"
   ]
  },
  {
   "cell_type": "code",
   "execution_count": null,
   "id": "38730b84-4a0f-42f4-8557-44a218b9e427",
   "metadata": {},
   "outputs": [],
   "source": [
    "def tokenize(text):\n",
    "    def indices():\n",
    "        for s in tokenizer(text):\n",
    "            yield vocab[s]\n",
    "    return list(indices())\n",
    "tokenize('Hello, how are u')"
   ]
  },
  {
   "cell_type": "code",
   "execution_count": null,
   "id": "6b61b85c-4bd4-4074-809b-09e5498ba908",
   "metadata": {},
   "outputs": [],
   "source": []
  }
 ],
 "metadata": {
  "kernelspec": {
   "display_name": "Python 3 (ipykernel)",
   "language": "python",
   "name": "python3"
  },
  "language_info": {
   "codemirror_mode": {
    "name": "ipython",
    "version": 3
   },
   "file_extension": ".py",
   "mimetype": "text/x-python",
   "name": "python",
   "nbconvert_exporter": "python",
   "pygments_lexer": "ipython3",
   "version": "3.8.10"
  }
 },
 "nbformat": 4,
 "nbformat_minor": 5
}
